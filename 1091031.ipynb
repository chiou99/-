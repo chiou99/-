{
  "nbformat": 4,
  "nbformat_minor": 0,
  "metadata": {
    "colab": {
      "name": "1091031.ipynb",
      "provenance": [],
      "authorship_tag": "ABX9TyMYKgOOTnPAOBE38C9z2Okn",
      "include_colab_link": true
    },
    "kernelspec": {
      "name": "python3",
      "display_name": "Python 3"
    }
  },
  "cells": [
    {
      "cell_type": "markdown",
      "metadata": {
        "id": "view-in-github",
        "colab_type": "text"
      },
      "source": [
        "<a href=\"https://colab.research.google.com/github/chiou99/-/blob/master/1091031.ipynb\" target=\"_parent\"><img src=\"https://colab.research.google.com/assets/colab-badge.svg\" alt=\"Open In Colab\"/></a>"
      ]
    },
    {
      "cell_type": "code",
      "metadata": {
        "id": "1zU_K1P0Wt_r",
        "outputId": "a968ace0-e451-4aee-edb1-58c3f792b099",
        "colab": {
          "base_uri": "https://localhost:8080/",
          "height": 120
        }
      },
      "source": [
        "#/usr/bin/python3 #unix,\n",
        "print(\"okok1\")\n",
        "print('okok2\\n hello\\n world\\n')\n",
        "\"\"\"\n",
        "fff\n",
        "ppp\n",
        "jj\n",
        "\"\"\"\n"
      ],
      "execution_count": 4,
      "outputs": [
        {
          "output_type": "stream",
          "text": [
            "okok1\n",
            "okok2\n",
            " hello\n",
            " world\n",
            "\n"
          ],
          "name": "stdout"
        },
        {
          "output_type": "execute_result",
          "data": {
            "application/vnd.google.colaboratory.intrinsic+json": {
              "type": "string"
            },
            "text/plain": [
              "'\\nfff\\nppp\\njj\\n'"
            ]
          },
          "metadata": {
            "tags": []
          },
          "execution_count": 4
        }
      ]
    },
    {
      "cell_type": "code",
      "metadata": {
        "id": "kiPaEfrOYZne",
        "outputId": "1bc1ad6e-6c40-43c4-c0b6-ab7f513ede2e",
        "colab": {
          "base_uri": "https://localhost:8080/"
        }
      },
      "source": [
        "x=5\n",
        "y='hohn'\n",
        "print(x,y)\n",
        "x='hello'\n",
        "print(x)\n",
        "a=2\n",
        "b=3.4\n",
        "print(a)\n",
        "a=b=c='hello'\n",
        "print(c)\n",
        "d=a+b+c\n",
        "print(d)\n",
        "x=5\n",
        "y=\"john\"\n",
        "print(\" \"+y)"
      ],
      "execution_count": 23,
      "outputs": [
        {
          "output_type": "stream",
          "text": [
            "5 hohn\n",
            "hello\n",
            "2\n",
            "hello\n",
            "hellohellohello\n",
            " john\n"
          ],
          "name": "stdout"
        }
      ]
    },
    {
      "cell_type": "code",
      "metadata": {
        "id": "SFZtgPIyZKCH",
        "outputId": "e3868b7e-799a-4411-9247-65d3c4e01fed",
        "colab": {
          "base_uri": "https://localhost:8080/"
        }
      },
      "source": [
        "import random\n",
        "x=3.4j\n",
        "print(type(x))\n",
        "x=['a','b','cc']\n",
        "print(type(x))\n",
        "x=('a','b','c')\n",
        "print(type(x))\n",
        "x={'a','a','b'}\n",
        "print(type(x))\n",
        "x=b\"hello\"\n",
        "print(type(x))\n",
        "x=str('hello')\n",
        "x=list((\"a\",\"b\",'c'))\n",
        "a=range(6)\n",
        "print(a)\n",
        "b=list(range(6))\n",
        "print(b)\n",
        "c=bool(0)\n",
        "print(c)\n",
        "e=3.4e2\n",
        "print(e)\n",
        "y=2.8\n",
        "x=int(y)\n",
        "print(x)"
      ],
      "execution_count": 56,
      "outputs": [
        {
          "output_type": "stream",
          "text": [
            "<class 'complex'>\n",
            "<class 'list'>\n",
            "<class 'tuple'>\n",
            "<class 'set'>\n",
            "<class 'bytes'>\n",
            "range(0, 6)\n",
            "[0, 1, 2, 3, 4, 5]\n",
            "False\n",
            "340.0\n",
            "2\n"
          ],
          "name": "stdout"
        }
      ]
    },
    {
      "cell_type": "code",
      "metadata": {
        "id": "__SqwilofOZU",
        "outputId": "e53fa0d1-068f-4645-b9c5-18b1458c2d45",
        "colab": {
          "base_uri": "https://localhost:8080/"
        }
      },
      "source": [
        "import random\n",
        "print(random.randrange(0,10))\n",
        "print(random.random())"
      ],
      "execution_count": 69,
      "outputs": [
        {
          "output_type": "stream",
          "text": [
            "5\n",
            "0.22911971806568276\n"
          ],
          "name": "stdout"
        }
      ]
    },
    {
      "cell_type": "code",
      "metadata": {
        "id": "mN3WHPxuf1ZF",
        "outputId": "9b8d7494-4144-4786-a5b8-8fe88bc19789",
        "colab": {
          "base_uri": "https://localhost:8080/"
        }
      },
      "source": [
        "z=int('90')\n",
        "print(z)\n",
        "a=\"\"\"fufufufufuf\\n\n",
        "kokoook\\t\n",
        "lpplpl\\t\n",
        "\"\"\"\n",
        "print(a)\n",
        "a=\"hello\"\n",
        "print(a[3:5])\n",
        "print(a[-5:-1])\n",
        "print(len(a))\n",
        "a=\"HELLO\".lower().upper().replace('E','q').split('L')\n",
        "print(a)\n",
        "age=36\n",
        "a=\"helo {1} {0}\"\n",
        "print(a.format(age,age))\n",
        "a=\"hello 'world' hello world\"\n",
        "print(a)\n",
        "a=3\n",
        "b=2\n",
        "if a>b:\n",
        "  print('a>b')\n",
        "  print(\"okok\")\n",
        "else:\n",
        "  print('a<b')\n",
        "  print(\"nono\")\n",
        "print(bool(1))\n"
      ],
      "execution_count": 108,
      "outputs": [
        {
          "output_type": "stream",
          "text": [
            "90\n",
            "fufufufufuf\n",
            "\n",
            "kokoook\t\n",
            "lpplpl\t\n",
            "\n",
            "lo\n",
            "hell\n",
            "5\n",
            "['Hq', '', 'O']\n",
            "helo 36 36\n",
            "hello 'world' hello world\n",
            "a>b\n",
            "okok\n",
            "True\n"
          ],
          "name": "stdout"
        }
      ]
    },
    {
      "cell_type": "code",
      "metadata": {
        "id": "Jc2zYofsj8TS",
        "outputId": "479d1188-94df-42a0-9e27-5248fd1c84a5",
        "colab": {
          "base_uri": "https://localhost:8080/"
        }
      },
      "source": [
        "x=-20\n",
        "y=3\n",
        "print(x**y)\n",
        "print(x//y)\n",
        "x=5\n",
        "y=x & 3\n",
        "print(x)\n"
      ],
      "execution_count": 113,
      "outputs": [
        {
          "output_type": "stream",
          "text": [
            "-8000\n",
            "-7\n",
            "5\n"
          ],
          "name": "stdout"
        }
      ]
    },
    {
      "cell_type": "code",
      "metadata": {
        "id": "BdE-I8qvkiuA",
        "outputId": "acd24425-888f-46f9-9832-67878526a425",
        "colab": {
          "base_uri": "https://localhost:8080/"
        }
      },
      "source": [
        "\n",
        "a=['a',1,'b',3]\n",
        "print(a[0],a[1])\n",
        "b=('a',3,'b',3.14)\n",
        "print(b[2],b[3])\n",
        "a[2]=4\n",
        "print(a)\n",
        "c={'a',1,2,3,'a','b'}\n",
        "print(c)"
      ],
      "execution_count": 124,
      "outputs": [
        {
          "output_type": "stream",
          "text": [
            "a 1\n",
            "b 3.14\n",
            "['a', 1, 4, 3]\n",
            "{1, 2, 3, 'b', 'a'}\n"
          ],
          "name": "stdout"
        }
      ]
    },
    {
      "cell_type": "code",
      "metadata": {
        "id": "uScphc0emCxD",
        "outputId": "dc05116a-4d5a-4aa1-9d8d-e443cff06b59",
        "colab": {
          "base_uri": "https://localhost:8080/"
        }
      },
      "source": [
        "\n",
        "print(thislist[:4])\n",
        "print(thislist[2:])\n",
        "print(thislist[-4:-1])\n",
        "\n",
        "if \"apple\" in thislist:\n",
        "  print(\"in\")\n",
        "else:\n",
        "  print(\"no\")\n",
        "thislist = [\"apple\", \"banana\", \"cherry\", \"orange\", \"kiwi\", \"melon\", \"mango\"]\n",
        "for x in thislist:\n",
        "  print(x+'\\n')\n",
        "thislist.append(\"hello\")\n"
      ],
      "execution_count": 137,
      "outputs": [
        {
          "output_type": "stream",
          "text": [
            "['apple', 'banana', 'cherry', 'orange']\n",
            "['cherry', 'orange', 'kiwi', 'melon', 'mango']\n",
            "['orange', 'kiwi', 'melon']\n",
            "in\n",
            "apple\n",
            "\n",
            "banana\n",
            "\n",
            "cherry\n",
            "\n",
            "orange\n",
            "\n",
            "kiwi\n",
            "\n",
            "melon\n",
            "\n",
            "mango\n",
            "\n"
          ],
          "name": "stdout"
        }
      ]
    },
    {
      "cell_type": "code",
      "metadata": {
        "id": "cLD3KYqYprpO",
        "outputId": "0923f850-43f1-48a0-a3cf-54b3a41a988f",
        "colab": {
          "base_uri": "https://localhost:8080/"
        }
      },
      "source": [
        "a=[0,1,\"2\",3,4,5]\n",
        "print(a)\n",
        "b=(0,1,2,3,4,5)\n",
        "a.clear()\n",
        "print(a)\n",
        "a=[1,\"2\",3]\n",
        "b=[4,5,6]\n",
        "c=a+b\n",
        "print(c)"
      ],
      "execution_count": 151,
      "outputs": [
        {
          "output_type": "stream",
          "text": [
            "[0, 1, '2', 3, 4, 5]\n",
            "[]\n",
            "[1, '2', 3, 4, 5, 6]\n"
          ],
          "name": "stdout"
        }
      ]
    },
    {
      "cell_type": "code",
      "metadata": {
        "id": "x01_oPPtlpDp",
        "outputId": "3f4ce146-2f22-4732-9c6e-160380c000b5",
        "colab": {
          "base_uri": "https://localhost:8080/"
        }
      },
      "source": [
        "a=(1,2,4.4)\n",
        "\n",
        "print(a.count(4))"
      ],
      "execution_count": 160,
      "outputs": [
        {
          "output_type": "stream",
          "text": [
            "0\n"
          ],
          "name": "stdout"
        }
      ]
    },
    {
      "cell_type": "code",
      "metadata": {
        "id": "ukG3sRpYsghZ",
        "outputId": "c08247f0-0962-4f86-fc13-6aa3e34ad36c",
        "colab": {
          "base_uri": "https://localhost:8080/"
        }
      },
      "source": [
        "tuple1=(\"a\",\"b\",\"c\")\n",
        "tuple2=(1,2,3)\n",
        "tuple3=tuple1+tuple2\n",
        "print(tuple3)\n",
        "print(tuple3.index('c'))\n",
        "a={1,2,3,4,5}\n",
        "a.add('7')\n",
        "print(a)\n",
        "print(len(a))\n",
        "b=a.pop()\n",
        "print(a.pop)\n",
        "print(a)"
      ],
      "execution_count": 165,
      "outputs": [
        {
          "output_type": "stream",
          "text": [
            "('a', 'b', 'c', 1, 2, 3)\n",
            "2\n",
            "{1, 2, 3, 4, 5, '7'}\n",
            "6\n",
            "<built-in method pop of set object at 0x7fa746544828>\n",
            "{2, 3, 4, 5, '7'}\n"
          ],
          "name": "stdout"
        }
      ]
    },
    {
      "cell_type": "code",
      "metadata": {
        "id": "jU3tAJFHuIpB",
        "outputId": "167bdf2a-1141-4148-ef61-96d44ba884f5",
        "colab": {
          "base_uri": "https://localhost:8080/"
        }
      },
      "source": [
        "dict1={\n",
        "    'a':1,\n",
        "    'b':2,\n",
        "    3:'c',\n",
        "    4:'d'\n",
        "}\n",
        "dict1.clear()\n",
        "print(dict1)\n",
        "print(type(dict1))"
      ],
      "execution_count": 199,
      "outputs": [
        {
          "output_type": "stream",
          "text": [
            "{}\n",
            "<class 'dict'>\n"
          ],
          "name": "stdout"
        }
      ]
    },
    {
      "cell_type": "code",
      "metadata": {
        "id": "diOkZuOpx2Pu",
        "outputId": "b598c6fa-d014-4af3-ced7-2062357c48ea",
        "colab": {
          "base_uri": "https://localhost:8080/"
        }
      },
      "source": [
        "dict1={\n",
        "    'a':1,\n",
        "    'b':2\n",
        "}\n",
        "dict2={\n",
        "    'c':dict1,\n",
        "    'd':dict1\n",
        "}\n",
        "dict3={\n",
        "    '1':dict1,\n",
        "    '2':dict2\n",
        "}\n",
        "print(dict3['1'])"
      ],
      "execution_count": 202,
      "outputs": [
        {
          "output_type": "stream",
          "text": [
            "{'a': 1, 'b': 2}\n"
          ],
          "name": "stdout"
        }
      ]
    },
    {
      "cell_type": "code",
      "metadata": {
        "id": "dSXTOXNLy0yu",
        "outputId": "7d81c4bd-d10f-4e0d-9365-c47bc01cb7b0",
        "colab": {
          "base_uri": "https://localhost:8080/"
        }
      },
      "source": [
        "a=332\n",
        "b=2\n",
        "if a>b:\n",
        "  pass\n",
        "elif a<b:\n",
        "  print(\"<\")\n",
        "else:\n",
        "  print(\"=\")\n",
        "c=['a','b','d']\n",
        "for x in c:print(x)"
      ],
      "execution_count": 214,
      "outputs": [
        {
          "output_type": "stream",
          "text": [
            "a\n",
            "b\n",
            "d\n"
          ],
          "name": "stdout"
        }
      ]
    },
    {
      "cell_type": "code",
      "metadata": {
        "id": "_hAlOmo7IVTH",
        "outputId": "7d7d215e-bb07-4f39-8846-75e1daf2e20b",
        "colab": {
          "base_uri": "https://localhost:8080/"
        }
      },
      "source": [
        "i=1\n",
        "while i<6:\n",
        "  print(i)\n",
        "  i+=1\n",
        "else:\n",
        "  print(\">=6\")"
      ],
      "execution_count": 222,
      "outputs": [
        {
          "output_type": "stream",
          "text": [
            "1\n",
            "2\n",
            "3\n",
            "4\n",
            "5\n",
            ">=6\n"
          ],
          "name": "stdout"
        }
      ]
    },
    {
      "cell_type": "code",
      "metadata": {
        "id": "ErGjqYP8JnRI",
        "outputId": "b9552d60-36b4-4cfc-ea26-8f979dd5bd87",
        "colab": {
          "base_uri": "https://localhost:8080/"
        }
      },
      "source": [
        "for x in range(6):\n",
        "  print(x)\n",
        "  pass\n",
        "else:\n",
        "  print(\">=6\")\n"
      ],
      "execution_count": 235,
      "outputs": [
        {
          "output_type": "stream",
          "text": [
            "0\n",
            "1\n",
            "2\n",
            "3\n",
            "4\n",
            "5\n",
            ">=6\n"
          ],
          "name": "stdout"
        }
      ]
    },
    {
      "cell_type": "code",
      "metadata": {
        "id": "VwjtVQctzEPB"
      },
      "source": [
        ""
      ],
      "execution_count": null,
      "outputs": []
    }
  ]
}